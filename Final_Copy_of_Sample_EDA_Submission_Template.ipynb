{
  "nbformat": 4,
  "nbformat_minor": 0,
  "metadata": {
    "colab": {
      "private_outputs": true,
      "provenance": [],
      "include_colab_link": true
    },
    "kernelspec": {
      "name": "python3",
      "display_name": "Python 3"
    },
    "language_info": {
      "name": "python"
    }
  },
  "cells": [
    {
      "cell_type": "markdown",
      "metadata": {
        "id": "view-in-github",
        "colab_type": "text"
      },
      "source": [
        "<a href=\"https://colab.research.google.com/github/musharraf1030/Capstone_Project_Global_Terrorism_Dataset-/blob/main/Final_Copy_of_Sample_EDA_Submission_Template.ipynb\" target=\"_parent\"><img src=\"https://colab.research.google.com/assets/colab-badge.svg\" alt=\"Open In Colab\"/></a>"
      ]
    },
    {
      "cell_type": "markdown",
      "source": [
        "**Project Name**    -    **GLOBAL TERRRORISM DATASET**\n",
        "\n"
      ],
      "metadata": {
        "id": "vncDsAP0Gaoa"
      }
    },
    {
      "cell_type": "markdown",
      "source": [
        "##### **Project Type**    - EDA\n",
        "##### **Contribution**    - Individual - Mohd Musharraf Ashhar\n"
      ],
      "metadata": {
        "id": "beRrZCGUAJYm"
      }
    },
    {
      "cell_type": "markdown",
      "source": [
        "# **Project Summary -**"
      ],
      "metadata": {
        "id": "FJNUwmbgGyua"
      }
    },
    {
      "cell_type": "markdown",
      "source": [
        "The given Global Terrorism Database (GTD) is provides information on terrorist attacks around the world from 1970 to 2017. The GTD includes information on more than 180,000 terrorist attacks, including the date and location of the attack, the type of attack, the number of casualties, and the group or individual responsible. The dataset also includes information on the tactics used in the attack, the target of the attack, and the weapons used. The dataset includes information on terrorist attacks from over 150 countries, making it one of the most comprehensive sources of information on global terrorism. In conclusion, the Global Terrorism Database is a valuable resource for understanding the patterns and trends of terrorism around the world. It is comprehensive, covering terrorist attacks from over 150 countries, and includes information on attacks that are not typically included in other datasets. However, it relies on open-source information for data collection, which may result in underreporting, particularly in countries with weak governance and little media freedom."
      ],
      "metadata": {
        "id": "F6v_1wHtG2nS"
      }
    },
    {
      "cell_type": "markdown",
      "source": [
        "# **GitHub Link -**"
      ],
      "metadata": {
        "id": "w6K7xa23Elo4"
      }
    },
    {
      "cell_type": "markdown",
      "source": [
        "Provide your GitHub Link here."
      ],
      "metadata": {
        "id": "h1o69JH3Eqqn"
      }
    },
    {
      "cell_type": "markdown",
      "source": [
        "# **Problem Statement**\n"
      ],
      "metadata": {
        "id": "yQaldy8SH6Dl"
      }
    },
    {
      "cell_type": "markdown",
      "source": [
        "The Global Terrorism Database (GTD) is an open-source database that contains details on terrorist attacks that occurred worldwide between 1970 and 2017. The GTD includes comprehensive information on both domestic and international terrorist incidents that have taken place during this time. The National Consortium for the Study of Terrorism and Responses to Terrorism, which has its headquarters at the University of Maryland, maintains the database.Investigate and examine the data to find important conclusions about terrorist activities. The history of the GTD and the important choices that were made as it was being developed are explained in this introduction. As a data analyst for Intelligens Organization, it is my responsibility to create a dataset of terrorism incidents that is as comprehensive and consistent as possible while also being as transparent as possible about the data collection methodology. We outline the definition of terrorism used by the GTD, as well as other definitional filtering criteria and the current data collection process."
      ],
      "metadata": {
        "id": "DpeJGUA3kjGy"
      }
    },
    {
      "cell_type": "markdown",
      "source": [
        "#### **Define Your Business Objective?**"
      ],
      "metadata": {
        "id": "PH-0ReGfmX4f"
      }
    },
    {
      "cell_type": "markdown",
      "source": [
        "As a data analyst working on a global terrorism dataset for an Intelligence organizationn, the primary business objectives would likely include identifying patterns and trends in terrorist activity, as well as understanding the motivations and methods used by terrorist organizations. Other objectives could include identifying high-risk areas or vulnerable populations, assessing the effectiveness of counter-terrorism measures, and providing intelligence to inform policy and decision-making. Additionally, the data might be used to predict future terrorist attacks and develop strategies for preventing or mitigating them."
      ],
      "metadata": {
        "id": "PhDvGCAqmjP1"
      }
    },
    {
      "cell_type": "markdown",
      "source": [
        "# **General Guidelines** : -  "
      ],
      "metadata": {
        "id": "mDgbUHAGgjLW"
      }
    },
    {
      "cell_type": "markdown",
      "source": [
        "1.   Well-structured, formatted, and commented code is required. \n",
        "2.   Exception Handling, Production Grade Code & Deployment Ready Code will be a plus. Those students will be awarded some additional credits. \n",
        "     \n",
        "     The additional credits will have advantages over other students during Star Student selection.\n",
        "       \n",
        "             [ Note: - Deployment Ready Code is defined as, the whole .ipynb notebook should be executable in one go\n",
        "                       without a single error logged. ]\n",
        "\n",
        "3.   Each and every logic should have proper comments.\n",
        "4. You may add as many number of charts you want. Make Sure for each and every chart the following format should be answered.\n",
        "        \n",
        "\n",
        "```\n",
        "# Chart visualization code\n",
        "```\n",
        "            \n",
        "\n",
        "*   Why did you pick the specific chart?\n",
        "*   What is/are the insight(s) found from the chart?\n",
        "* Will the gained insights help creating a positive business impact? \n",
        "Are there any insights that lead to negative growth? Justify with specific reason.\n",
        "\n",
        "5. You have to create at least 20 logical & meaningful charts having important insights.\n",
        "\n",
        "\n",
        "[ Hints : - Do the Vizualization in  a structured way while following \"UBM\" Rule. \n",
        "\n",
        "U - Univariate Analysis,\n",
        "\n",
        "B - Bivariate Analysis (Numerical - Categorical, Numerical - Numerical, Categorical - Categorical)\n",
        "\n",
        "M - Multivariate Analysis\n",
        " ]\n",
        "\n",
        "\n",
        "\n"
      ],
      "metadata": {
        "id": "ZrxVaUj-hHfC"
      }
    },
    {
      "cell_type": "markdown",
      "source": [
        "# ***Let's Begin !***"
      ],
      "metadata": {
        "id": "O_i_v8NEhb9l"
      }
    },
    {
      "cell_type": "markdown",
      "source": [
        "## ***1. Know Your Data***"
      ],
      "metadata": {
        "id": "HhfV-JJviCcP"
      }
    },
    {
      "cell_type": "markdown",
      "source": [
        "### Import Libraries"
      ],
      "metadata": {
        "id": "Y3lxredqlCYt"
      }
    },
    {
      "cell_type": "code",
      "source": [
        "# Import Libraries\n",
        "import pandas as pd\n",
        "import numpy as np\n",
        "import matplotlib as mpl\n",
        "import matplotlib.pyplot as plt\n",
        "import seaborn as sns\n",
        "import plotly.express as px"
      ],
      "metadata": {
        "id": "M8Vqi-pPk-HR"
      },
      "execution_count": null,
      "outputs": []
    },
    {
      "cell_type": "markdown",
      "source": [
        "### Dataset Loading"
      ],
      "metadata": {
        "id": "3RnN4peoiCZX"
      }
    },
    {
      "cell_type": "code",
      "source": [
        "\n",
        "from google.colab import drive\n",
        "drive.mount('/content/drive')"
      ],
      "metadata": {
        "id": "7HRgY9CubWIz"
      },
      "execution_count": null,
      "outputs": []
    },
    {
      "cell_type": "code",
      "source": [
        "gd = pd.read_csv(\"/content/drive/MyDrive/Global Terrorism Data.csv\", encoding = \"latin1\")"
      ],
      "metadata": {
        "id": "RhMH-yOrbovF"
      },
      "execution_count": null,
      "outputs": []
    },
    {
      "cell_type": "markdown",
      "source": [
        "### Dataset First View"
      ],
      "metadata": {
        "id": "x71ZqKXriCWQ"
      }
    },
    {
      "cell_type": "code",
      "source": [
        "# Dataset First Look\n",
        "gd"
      ],
      "metadata": {
        "id": "LWNFOSvLl09H"
      },
      "execution_count": null,
      "outputs": []
    },
    {
      "cell_type": "markdown",
      "source": [
        "### Dataset Rows & Columns count"
      ],
      "metadata": {
        "id": "7hBIi_osiCS2"
      }
    },
    {
      "cell_type": "code",
      "source": [
        "# Dataset Rows & Columns count\n",
        "row,columns = gd.shape\n",
        "print(\"No of Rows in Dataset\",row)\n",
        "print(\"No of Columns in Dataset\",columns)"
      ],
      "metadata": {
        "id": "Kllu7SJgmLij"
      },
      "execution_count": null,
      "outputs": []
    },
    {
      "cell_type": "markdown",
      "source": [
        "Data Cleaning\n"
      ],
      "metadata": {
        "id": "coylqC7Ec9dR"
      }
    },
    {
      "cell_type": "code",
      "source": [
        "gd.columns\n",
        "for i in gd.columns:\n",
        "  print(i,end=\", \")"
      ],
      "metadata": {
        "id": "mLrPHJmxdA1a"
      },
      "execution_count": null,
      "outputs": []
    },
    {
      "cell_type": "code",
      "source": [
        "gd=gd[[\"iyear\",\"imonth\",\"iday\",\"country_txt\",\"region_txt\",\"provstate\",\"city\",\n",
        "       \"latitude\",\"longitude\",\"location\",\"summary\",\"attacktype1_txt\",\"targtype1_txt\",\n",
        "       \"gname\",\"motive\",\"weaptype1_txt\",\"nkill\",\"nwound\",\"addnotes\"]]\n",
        "gd.head()"
      ],
      "metadata": {
        "id": "28W4CTvSdZaV"
      },
      "execution_count": null,
      "outputs": []
    },
    {
      "cell_type": "code",
      "source": [
        "gd.rename(columns = {\"iyear\":\"Year\",\"imonth\":\"Month\",\"iday\":\"Day\",\"country_txt\":\"Country\",\"region_txt\":\"Region\",\"provstate\":\"State\",\n",
        "                     \"city\":\"City\",\"latitude\":\"Latitude\",\"longitude\":\"Longitude\",\"location\":\"Location\",\"summary\":\"Summary\",\n",
        "                     \"attacktype1_txt\":\"Attack Type\",\"targtype1_txt\":\"Target Type\",\"gname\":\"Group Name\",\"motive\":\"Motive\",\n",
        "                     \"weaptype1_txt\":\"Weapon Type\",\"nkill\":\"Killed\",\"nwound\":\"Wound\",\"addnotes\":\"Add Notes\"}, inplace = True)\n",
        "gd.head()"
      ],
      "metadata": {
        "id": "-xsCACbudvF9"
      },
      "execution_count": null,
      "outputs": []
    },
    {
      "cell_type": "markdown",
      "source": [
        "### Dataset Information"
      ],
      "metadata": {
        "id": "JlHwYmJAmNHm"
      }
    },
    {
      "cell_type": "code",
      "source": [
        "# Dataset Info\n",
        "gd.info()"
      ],
      "metadata": {
        "id": "e9hRXRi6meOf"
      },
      "execution_count": null,
      "outputs": []
    },
    {
      "cell_type": "markdown",
      "source": [
        "#### Duplicate Values"
      ],
      "metadata": {
        "id": "35m5QtbWiB9F"
      }
    },
    {
      "cell_type": "code",
      "source": [
        "# Dataset Duplicate Value Count\n",
        "len(gd[gd.duplicated()])"
      ],
      "metadata": {
        "id": "1sLdpKYkmox0"
      },
      "execution_count": null,
      "outputs": []
    },
    {
      "cell_type": "markdown",
      "source": [
        "#### Missing Values/Null Values"
      ],
      "metadata": {
        "id": "PoPl-ycgm1ru"
      }
    },
    {
      "cell_type": "code",
      "source": [
        "# Missing Values/Null Values Count\n",
        "print(gd.isnull().sum())"
      ],
      "metadata": {
        "id": "GgHWkxvamxVg"
      },
      "execution_count": null,
      "outputs": []
    },
    {
      "cell_type": "markdown",
      "source": [
        "### What did you know about your dataset?"
      ],
      "metadata": {
        "id": "H0kj-8xxnORC"
      }
    },
    {
      "cell_type": "markdown",
      "source": [
        "The Global Terrorism Database (GTD) is an open-source database including information on terrorist attacks around the world from 1970 through 2017. The GTD includes systematic data on domestic as well as international terrorist incidents that have occurred during this time period and now includes more than 180,000 attacks.The given Dataset has 135 Columns and 181691 Rows."
      ],
      "metadata": {
        "id": "gfoNAAC-nUe_"
      }
    },
    {
      "cell_type": "markdown",
      "source": [
        "## ***2. Understanding Your Variables***"
      ],
      "metadata": {
        "id": "nA9Y7ga8ng1Z"
      }
    },
    {
      "cell_type": "code",
      "source": [
        "# Dataset Describe\n",
        "gd.describe(include = \"all\")"
      ],
      "metadata": {
        "id": "DnOaZdaE5Q5t"
      },
      "execution_count": null,
      "outputs": []
    },
    {
      "cell_type": "markdown",
      "source": [
        "### Variables Description "
      ],
      "metadata": {
        "id": "PBTbrJXOngz2"
      }
    },
    {
      "cell_type": "markdown",
      "source": [
        "*   **Year** - In which year the attack was happen.\n",
        "*   **Country** - In which Country the attack was happen.\n",
        "*   **Attack Type** - What type of attack was aactually happen.\n",
        "*   **Target Type** - Who was the target of the perticular attack.\n",
        "*   **Group** - Which group is responsible for the attack.\n",
        "*   **Weapon Type** - What type of weapon is used in the attack.\n",
        "*   **Killed** - Number of people killed in the attack."
      ],
      "metadata": {
        "id": "aJV4KIxSnxay"
      }
    },
    {
      "cell_type": "markdown",
      "source": [
        "\n",
        "### Check Unique Values for each variable."
      ],
      "metadata": {
        "id": "u3PMJOP6ngxN"
      }
    },
    {
      "cell_type": "code",
      "source": [
        "\n",
        "# Check Unique Values for each variable.\n",
        "for i in gd.columns.tolist():\n",
        "  print(\"No of Unique Values in \", i,\"is\", gd[i].nunique())"
      ],
      "metadata": {
        "id": "zms12Yq5n-jE"
      },
      "execution_count": null,
      "outputs": []
    },
    {
      "cell_type": "markdown",
      "source": [
        "## 3. ***Data Wrangling***"
      ],
      "metadata": {
        "id": "dauF4eBmngu3"
      }
    },
    {
      "cell_type": "markdown",
      "source": [
        "### Data Wrangling Code"
      ],
      "metadata": {
        "id": "bKJF3rekwFvQ"
      }
    },
    {
      "cell_type": "code",
      "source": [
        "# Write your code to make your dataset analysis ready.\n",
        "gd[\"killed\"]=gd[\"Killed\"].fillna(0)\n",
        "gd[\"Wound\"]=gd[\"Wound\"].fillna(0)\n",
        "gd[\"Casualty\"]=gd[\"Killed\"]+gd[\"Wound\"]\n",
        "gd.describe()"
      ],
      "metadata": {
        "id": "wk-9a2fpoLcV"
      },
      "execution_count": null,
      "outputs": []
    },
    {
      "cell_type": "markdown",
      "source": [
        "### What all manipulations have you done and insights you found?"
      ],
      "metadata": {
        "id": "MSa1f5Uengrz"
      }
    },
    {
      "cell_type": "markdown",
      "source": [
        "Answer Here."
      ],
      "metadata": {
        "id": "LbyXE7I1olp8"
      }
    },
    {
      "cell_type": "markdown",
      "source": [
        "## ***4. Data Vizualization, Storytelling & Experimenting with charts : Understand the relationships between variables***"
      ],
      "metadata": {
        "id": "GF8Ens_Soomf"
      }
    },
    {
      "cell_type": "code",
      "source": [
        "gd"
      ],
      "metadata": {
        "id": "o_dU9yQEidqs"
      },
      "execution_count": null,
      "outputs": []
    },
    {
      "cell_type": "markdown",
      "source": [
        "#### Chart - 1"
      ],
      "metadata": {
        "id": "0wOQAZs5pc--"
      }
    },
    {
      "cell_type": "markdown",
      "source": [
        "**Year wise Attacks**"
      ],
      "metadata": {
        "id": "A58hcrQpHhRL"
      }
    },
    {
      "cell_type": "code",
      "source": [
        "# Chart - 1 visualization code\n",
        "attacks=gd[\"Year\"].value_counts(dropna=False).sort_index().to_frame().reset_index().rename(columns={\"index\":\"Year\",\"Year\":\"Attacks\"}).set_index(\"Year\")\n",
        "attacks.head()"
      ],
      "metadata": {
        "id": "68nq7OZHHuRe"
      },
      "execution_count": null,
      "outputs": []
    },
    {
      "cell_type": "code",
      "source": [
        "a = plt.rcParams['figure.figsize'] = 18,8\n",
        "a = sns.countplot(x = \"Year\", data = gd)\n",
        "a.set_xlabel(\"Year\",fontsize = 20)\n",
        "a.set_ylabel(\"Number of Attacks\",fontsize = 25)\n",
        "plt.xticks(rotation = 40)\n",
        "a.set_title(\"Attacks per Year\" , fontsize = 25)"
      ],
      "metadata": {
        "id": "ccbAvs7THv67"
      },
      "execution_count": null,
      "outputs": []
    },
    {
      "cell_type": "markdown",
      "source": [
        "* **Total Wound in each Year**"
      ],
      "metadata": {
        "id": "Acf0Q13sL7zf"
      }
    },
    {
      "cell_type": "code",
      "source": [
        "wound = gd[[\"Year\",\"Wound\"]].groupby(\"Year\").sum()\n",
        "wound.head()"
      ],
      "metadata": {
        "id": "hHSSeavzL9gW"
      },
      "execution_count": null,
      "outputs": []
    },
    {
      "cell_type": "code",
      "source": [
        "wound.plot(kind = \"bar\", figsize = (18,8))\n",
        "plt.xlabel(\"Year\", fontsize = 20)\n",
        "plt.ylabel(\"Number of people Wounded\", fontsize = 17)\n",
        "plt.title(\"Number of people wounded in each Year\", fontsize = 20)\n",
        "plt.xticks(rotation = 45)"
      ],
      "metadata": {
        "id": "si3k3QkCMD-p"
      },
      "execution_count": null,
      "outputs": []
    },
    {
      "cell_type": "markdown",
      "source": [
        "\n",
        "\n",
        "*   **Total killed in each Year**\n",
        "\n"
      ],
      "metadata": {
        "id": "NYzU3Eo0KniP"
      }
    },
    {
      "cell_type": "code",
      "source": [
        "Killed = gd[[\"Year\",\"Killed\"]].groupby(\"Year\").sum()\n",
        "Killed.head()"
      ],
      "metadata": {
        "id": "ZZzlXqVoKsZe"
      },
      "execution_count": null,
      "outputs": []
    },
    {
      "cell_type": "code",
      "source": [
        "Killed.plot(kind = \"bar\",figsize = (18,8))\n",
        "plt.xlabel(\"Year\", fontsize = 20)\n",
        "plt.ylabel(\"Number of people Killed\", fontsize = 20)\n",
        "plt.title(\"Number of People killed in each Year\", fontsize = 20)\n",
        "plt.xticks(rotation = 45)"
      ],
      "metadata": {
        "id": "W60ynFbuK1Xa"
      },
      "execution_count": null,
      "outputs": []
    },
    {
      "cell_type": "markdown",
      "source": [
        "*  **Total caualties (Killed + Wounded) in every Year.**"
      ],
      "metadata": {
        "id": "OSXc0819Jsto"
      }
    },
    {
      "cell_type": "code",
      "source": [
        "Casualties = gd[[\"Year\",\"Casualty\"]].groupby(\"Year\").sum()\n",
        "Casualties.head()"
      ],
      "metadata": {
        "id": "nN3SlM20J3O1"
      },
      "execution_count": null,
      "outputs": []
    },
    {
      "cell_type": "code",
      "source": [
        "Casualties.plot(kind = \"bar\" ,figsize = (18,8))\n",
        "plt.xlabel(\"Year\" , fontsize = 20)\n",
        "plt.ylabel(\"Casualties\" , fontsize = 20)\n",
        "plt.title(\"Year wise Casualties\" , fontsize = 25)\n",
        "plt.xticks(rotation = 45)"
      ],
      "metadata": {
        "id": "Klq683tDKAmk"
      },
      "execution_count": null,
      "outputs": []
    },
    {
      "cell_type": "markdown",
      "source": [
        "**The Number of casualties corresponding to the killed people in each Country for each year.**"
      ],
      "metadata": {
        "id": "dRpBTVAHMnjf"
      }
    },
    {
      "cell_type": "code",
      "source": [
        "px.scatter(gd,gd.Wound,gd.Killed,hover_name='Country',animation_frame='Year',animation_group='Country',color='Attack Type',\n",
        "           range_color=[0,1],labels={'Killed':'Deaths','Wound':'Casualities'},\n",
        "           title='Number of casualities vs Killed people in each country for each year')"
      ],
      "metadata": {
        "id": "zhxjSsR0MwS3"
      },
      "execution_count": null,
      "outputs": []
    },
    {
      "cell_type": "markdown",
      "source": [
        "**2.Region Wise Attack**\n",
        "\n",
        "\n",
        "*   Terrorist Attacks over the region from 1970 to 2017."
      ],
      "metadata": {
        "id": "T9q6_Fw9uulX"
      }
    },
    {
      "cell_type": "code",
      "source": [
        "region = pd.crosstab(gd.Year,gd.Region)\n",
        "region.head()"
      ],
      "metadata": {
        "id": "JDQKrcBzxVWN"
      },
      "execution_count": null,
      "outputs": []
    },
    {
      "cell_type": "code",
      "source": [
        "region.plot(kind= \"area\",figsize = (18,8))\n",
        "plt.xlabel(\"Year\",fontsize = 20)\n",
        "plt.ylabel(\"Number Of Attacks\",fontsize = 20)\n",
        "plt.title(\"Region Wise Attacks\", fontsize = 22)"
      ],
      "metadata": {
        "id": "dtKfqhxfxASn"
      },
      "execution_count": null,
      "outputs": []
    },
    {
      "cell_type": "markdown",
      "source": [
        "The number of terrorist attacks that occurred in each region between\n",
        "1970 and 2017."
      ],
      "metadata": {
        "id": "sXbBRmWkx6Ps"
      }
    },
    {
      "cell_type": "code",
      "source": [
        "region_attacks = region.T\n",
        "region_attacks[\"Total\"] = region_attacks.sum(axis=1)\n",
        "ra = region_attacks[\"Total\"].sort_values(ascending = False)\n",
        "ra"
      ],
      "metadata": {
        "id": "UXvOBDF2yeZS"
      },
      "execution_count": null,
      "outputs": []
    },
    {
      "cell_type": "code",
      "source": [
        "ra.plot(kind = \"bar\",figsize = (18,8))\n",
        "plt.xlabel(\"Region\", fontsize = 20)\n",
        "plt.ylabel(\"Number Of Attacks\", fontsize = 20)\n",
        "plt.title(\"Total Number Of Attacks in each Region\", fontsize = 18)"
      ],
      "metadata": {
        "id": "tVYSxwV5yo5a"
      },
      "execution_count": null,
      "outputs": []
    },
    {
      "cell_type": "markdown",
      "source": [
        "Killed in Region"
      ],
      "metadata": {
        "id": "1dYNFDoaz57U"
      }
    },
    {
      "cell_type": "code",
      "source": [
        "killed_region = gd[[\"Region\",\"Killed\"]].groupby(\"Region\").sum().sort_values(by = \"Killed\", ascending = False)\n",
        "killed_region"
      ],
      "metadata": {
        "id": "K2hcOlbKz8_x"
      },
      "execution_count": null,
      "outputs": []
    },
    {
      "cell_type": "code",
      "source": [
        "killed_region.plot(kind=\"bar\",figsize=(18,8))\n",
        "plt.title(\"People Killed in each Region\")\n",
        "plt.xlabel(\"Regions\")\n",
        "plt.ylabel(\"Number of People Killed\")"
      ],
      "metadata": {
        "id": "G5U0QR0l0h0H"
      },
      "execution_count": null,
      "outputs": []
    },
    {
      "cell_type": "markdown",
      "source": [
        "Wounded in Region"
      ],
      "metadata": {
        "id": "EzYEOQX30IBY"
      }
    },
    {
      "cell_type": "code",
      "source": [
        "wounded_region = gd[[\"Region\",\"Wound\"]].groupby(\"Region\").sum().sort_values(by = \"Wound\", ascending = False)\n",
        "wounded_region"
      ],
      "metadata": {
        "id": "QNTJNtWR0LNu"
      },
      "execution_count": null,
      "outputs": []
    },
    {
      "cell_type": "code",
      "source": [
        "wounded_region.plot(kind=\"barh\",figsize=(18,8))\n",
        "plt.title(\"People Wounded in each Region\")\n",
        "plt.xlabel(\"Regions\")\n",
        "plt.ylabel(\"Number of People Wounded\")"
      ],
      "metadata": {
        "id": "aqxMgldT1U4d"
      },
      "execution_count": null,
      "outputs": []
    },
    {
      "cell_type": "markdown",
      "source": [
        "**Top 20 Country Wise Attacks**"
      ],
      "metadata": {
        "id": "EoVkahF912UE"
      }
    },
    {
      "cell_type": "code",
      "source": [
        "country_attacks = gd[\"Country\"].value_counts().head(20)\n",
        "country_attacks"
      ],
      "metadata": {
        "id": "Q-BTDfaq1_jL"
      },
      "execution_count": null,
      "outputs": []
    },
    {
      "cell_type": "code",
      "source": [
        "country_attacks.plot(kind = \"bar\",figsize = (18,8))\n",
        "plt.xlabel(\"Countries\",fontsize = 20)\n",
        "plt.ylabel(\"Number of Attacks\",fontsize = 20)\n",
        "plt.title(\"Country wise Attacks - Top 20\",fontsize = 20)"
      ],
      "metadata": {
        "id": "0OdOtvma2OjK"
      },
      "execution_count": null,
      "outputs": []
    },
    {
      "cell_type": "markdown",
      "source": [
        "**Wounded in each country**"
      ],
      "metadata": {
        "id": "3zkzJtTW2_uQ"
      }
    },
    {
      "cell_type": "code",
      "source": [
        "wound_country = gd[[\"Country\",\"Wound\"]].groupby(\"Country\").sum().sort_values(by = \"Wound\",ascending = False)\n",
        "wound_country.head(20)"
      ],
      "metadata": {
        "id": "CgGx4ABn3Muy"
      },
      "execution_count": null,
      "outputs": []
    },
    {
      "cell_type": "code",
      "source": [
        "wound_country[:20].plot(kind=\"bar\",figsize=(18,8))\n",
        "plt.title(\"People Wounded in each Country - Top20\",fontsize = 20)\n",
        "plt.xlabel(\"Countries\",fontsize = 20)\n",
        "plt.ylabel(\"Number of People Wounded\",fontsize = 20)"
      ],
      "metadata": {
        "id": "pNc1Kz_h3UYw"
      },
      "execution_count": null,
      "outputs": []
    },
    {
      "cell_type": "markdown",
      "source": [
        "**Killed in each Country**"
      ],
      "metadata": {
        "id": "EOVRCuiY4U4G"
      }
    },
    {
      "cell_type": "code",
      "source": [
        "killed_country = gd[[\"Country\",\"Killed\"]].groupby(\"Country\").sum().sort_values(by= \"Killed\",ascending = False)\n",
        "killed_country.head(20)"
      ],
      "metadata": {
        "id": "hEt9bvq34dGX"
      },
      "execution_count": null,
      "outputs": []
    },
    {
      "cell_type": "code",
      "source": [
        "killed_country[:20].plot(kind=\"bar\",figsize=(18,8))\n",
        "plt.title(\"People Killed in each Country - Top 20\",fontsize = 20)\n",
        "plt.xlabel(\"Countries\",fontsize = 20)\n",
        "plt.ylabel(\"Number of People Killed\",fontsize = 20)"
      ],
      "metadata": {
        "id": "tRT48Prt4kGN"
      },
      "execution_count": null,
      "outputs": []
    },
    {
      "cell_type": "markdown",
      "source": [
        "**Total Casualties in each Country**"
      ],
      "metadata": {
        "id": "-lgNXrKi5Na-"
      }
    },
    {
      "cell_type": "code",
      "source": [
        "casualty_country = gd[[\"Country\",\"Casualty\"]].groupby(\"Country\").sum().sort_values(by = \"Casualty\",ascending = False)\n",
        "casualty_country.head(20)"
      ],
      "metadata": {
        "id": "mvNDJSBx5S8o"
      },
      "execution_count": null,
      "outputs": []
    },
    {
      "cell_type": "code",
      "source": [
        "casualty_country[:20].plot(kind = \"bar\",figsize = (18,8))\n",
        "plt.xlabel(\"Countries\",fontsize =20)\n",
        "plt.ylabel(\"Number of Casualties\",fontsize =20)\n",
        "plt.title(\"Country wise Casulaties - Top 20\",fontsize = 22)"
      ],
      "metadata": {
        "id": "Qbup1to-5a8B"
      },
      "execution_count": null,
      "outputs": []
    },
    {
      "cell_type": "markdown",
      "source": [
        "**4.Total Number of Attack in each Country using Globe**"
      ],
      "metadata": {
        "id": "Sm4unupi5-e7"
      }
    },
    {
      "cell_type": "code",
      "source": [
        "terr=gd.groupby(['Country'],as_index=False).count()\n",
        "terr"
      ],
      "metadata": {
        "id": "eHJEVmpf6DNc"
      },
      "execution_count": null,
      "outputs": []
    },
    {
      "cell_type": "code",
      "source": [
        "fig=px.choropleth(terr,locations='Country',locationmode='country names',\n",
        "                  color='Year',hover_name='Country',projection='orthographic',\n",
        "                  title='Total number of attacks between 1970-2017',labels={'Year':'Attacks'})\n",
        "fig.show()"
      ],
      "metadata": {
        "id": "QWkbHFFV6Pj_"
      },
      "execution_count": null,
      "outputs": []
    },
    {
      "cell_type": "markdown",
      "source": [
        "**Top 20 City Wise Attacks**"
      ],
      "metadata": {
        "id": "3UnNs6uv63XE"
      }
    },
    {
      "cell_type": "code",
      "source": [
        "city_attacks = gd[\"City\"].value_counts()[1:21]\n",
        "city_attacks"
      ],
      "metadata": {
        "id": "Fq57Kmts68FQ"
      },
      "execution_count": null,
      "outputs": []
    },
    {
      "cell_type": "code",
      "source": [
        "city_attacks.plot(kind = \"bar\",figsize = (18,8))\n",
        "plt.xlabel(\"Cities\",fontsize = 20)\n",
        "plt.ylabel(\"Number of Attacks\",fontsize = 20)\n",
        "plt.title(\"City wise Attack\",fontsize = 20)"
      ],
      "metadata": {
        "id": "pG-hRgZF7Mrz"
      },
      "execution_count": null,
      "outputs": []
    },
    {
      "cell_type": "markdown",
      "source": [
        "**Killed in Each City**"
      ],
      "metadata": {
        "id": "n1Q-6NUA7fAu"
      }
    },
    {
      "cell_type": "code",
      "source": [
        "killed_city = gd[[\"City\",\"Killed\"]].groupby(\"City\").sum().sort_values(by = \"Killed\",ascending = False).drop(\"Unknown\")\n",
        "killed_city.head(20)"
      ],
      "metadata": {
        "id": "Z2VV3TYg7k90"
      },
      "execution_count": null,
      "outputs": []
    },
    {
      "cell_type": "code",
      "source": [
        "killed_city[:20].plot(kind = \"bar\",figsize = (18,8))\n",
        "plt.xlabel(\"Cities\",fontsize = 20)\n",
        "plt.ylabel(\"Number of People Killed \",fontsize = 20)\n",
        "plt.title(\"People Killed in each City\",fontsize = 20)"
      ],
      "metadata": {
        "id": "tD0K_Ccx7pbF"
      },
      "execution_count": null,
      "outputs": []
    },
    {
      "cell_type": "markdown",
      "source": [
        "**Top 10 Terrorist Group Wise Attacks**"
      ],
      "metadata": {
        "id": "zR-4yn5g77yi"
      }
    },
    {
      "cell_type": "code",
      "source": [
        "group = gd['Group Name'].value_counts()[1:11]\n",
        "group"
      ],
      "metadata": {
        "id": "2mtuyNLK8MB-"
      },
      "execution_count": null,
      "outputs": []
    },
    {
      "cell_type": "code",
      "source": [
        "group[:10].plot(kind = \"barh\",figsize = (18,8))\n",
        "plt.ylabel(\"Terrorist Group\",fontsize = 23)\n",
        "plt.xlabel(\"Number of Attacks\",fontsize = 20)\n",
        "plt.title(\"Terrorist Group wise Attack -Top 10\",fontsize = 20)"
      ],
      "metadata": {
        "id": "YKXQrKcL8sdO"
      },
      "execution_count": null,
      "outputs": []
    },
    {
      "cell_type": "markdown",
      "source": [
        "Killed by Each Group"
      ],
      "metadata": {
        "id": "iTMD70sQ-Ait"
      }
    },
    {
      "cell_type": "code",
      "source": [
        "group_killed = gd[[\"Group Name\",\"Killed\"]].groupby(\"Group Name\").sum().sort_values(by = \"Killed\",ascending = False).drop(\"Unknown\")\n",
        "group_killed.head(10)"
      ],
      "metadata": {
        "id": "PSCwFhTy-RGM"
      },
      "execution_count": null,
      "outputs": []
    },
    {
      "cell_type": "code",
      "source": [
        "group_killed[:10].plot(kind = \"barh\",figsize = (18,8))\n",
        "plt.ylabel(\"Group Name\",fontsize = 20)\n",
        "plt.xlabel(\"Number of People killed\",fontsize = 20)\n",
        "plt.title(\"People Killed by each Group\",fontsize = 20)"
      ],
      "metadata": {
        "id": "zwnld__z-eDO"
      },
      "execution_count": null,
      "outputs": []
    },
    {
      "cell_type": "markdown",
      "source": [
        "**Types of Attacks**"
      ],
      "metadata": {
        "id": "WFttUalQ-tgv"
      }
    },
    {
      "cell_type": "code",
      "source": [
        "attack_type = gd[\"Attack Type\"].value_counts()\n",
        "attack_type"
      ],
      "metadata": {
        "id": "2nJi2dCi-yxk"
      },
      "execution_count": null,
      "outputs": []
    },
    {
      "cell_type": "code",
      "source": [
        "attack_type.plot(kind = \"barh\",figsize = (18,8))\n",
        "plt.xlabel(\"Attack Types\",fontsize = 20)\n",
        "plt.ylabel(\"Number of Attack\",fontsize = 20)\n",
        "plt.title(\"Types of Attack\",fontsize = 20)"
      ],
      "metadata": {
        "id": "LfaP2RKB-5be"
      },
      "execution_count": null,
      "outputs": []
    },
    {
      "cell_type": "markdown",
      "source": [
        "**Attacks type wise Killed**"
      ],
      "metadata": {
        "id": "qAPdpfB6_NV6"
      }
    },
    {
      "cell_type": "code",
      "source": [
        "attack_type_killed = gd[[\"Attack Type\",\"Killed\"]].groupby(\"Attack Type\").sum().sort_values(by = \"Killed\",ascending  = False)\n",
        "attack_type_killed"
      ],
      "metadata": {
        "id": "HCXEkWUw_SHB"
      },
      "execution_count": null,
      "outputs": []
    },
    {
      "cell_type": "code",
      "source": [
        "attack_type_killed.plot(kind = \"barh\",figsize = (18,8))\n",
        "plt.xlabel(\"Attack Type\",fontsize = 20)\n",
        "plt.ylabel(\"Number of People Killed\",fontsize = 20)\n",
        "plt.title(\"People Killed in each Attack Type\",fontsize = 20)"
      ],
      "metadata": {
        "id": "4nCEhksh_aZj"
      },
      "execution_count": null,
      "outputs": []
    },
    {
      "cell_type": "markdown",
      "source": [
        "**Target type Attacks**"
      ],
      "metadata": {
        "id": "0Vee0th1_4jj"
      }
    },
    {
      "cell_type": "code",
      "source": [
        "target_attack = gd[\"Target Type\"].value_counts()\n",
        "target_attack"
      ],
      "metadata": {
        "id": "IJ8k370u_9YT"
      },
      "execution_count": null,
      "outputs": []
    },
    {
      "cell_type": "code",
      "source": [
        "target_attack.plot(kind = \"bar\",figsize = (18,8))\n",
        "plt.xlabel(\"Target Type\",fontsize  = 20)\n",
        "plt.ylabel(\"Number of Attacks\",fontsize  = 20)\n",
        "plt.title(\"Types of Target\",fontsize = 20)"
      ],
      "metadata": {
        "id": "RUFh7jhwAIlA"
      },
      "execution_count": null,
      "outputs": []
    },
    {
      "cell_type": "markdown",
      "source": [
        "**Killed in Target type Attacks**"
      ],
      "metadata": {
        "id": "U_Cc0jRtAem9"
      }
    },
    {
      "cell_type": "code",
      "source": [
        "target_killed = gd[[\"Target Type\",\"Killed\"]].groupby(\"Target Type\").sum().sort_values(by = \"Killed\",ascending = False)\n",
        "target_killed"
      ],
      "metadata": {
        "id": "hvBKHqZBAmPM"
      },
      "execution_count": null,
      "outputs": []
    },
    {
      "cell_type": "code",
      "source": [
        "target_killed.plot(kind =\"bar\",figsize = (18,8))\n",
        "plt.xlabel(\"Target Type\",fontsize = 20)\n",
        "plt.ylabel(\"Number of People Killed\",fontsize = 20)\n",
        "plt.title(\"People Killed in each Target Attack\",fontsize = 20)"
      ],
      "metadata": {
        "id": "PuV0IDZIAs86"
      },
      "execution_count": null,
      "outputs": []
    },
    {
      "cell_type": "markdown",
      "source": [
        "**9.Weapon Used in Attacks**\n",
        "\n"
      ],
      "metadata": {
        "id": "fODjFE1_BIp5"
      }
    },
    {
      "cell_type": "code",
      "source": [
        "weapon_type = gd['Weapon Type'].value_counts()[:5]\n",
        "weapon_type"
      ],
      "metadata": {
        "id": "MA-lxN2EBKYN"
      },
      "execution_count": null,
      "outputs": []
    },
    {
      "cell_type": "code",
      "source": [
        "ax=plt.rcParams['figure.figsize'] = 14,7\n",
        "ax=sns.countplot(x='Weapon Type',data=gd,order = gd['Weapon Type'].value_counts().index[:5])\n",
        "plt.xlabel('Weapon',fontsize=20)\n",
        "plt.ylabel('Count',fontsize=20)\n",
        "plt.xticks(rotation = 0)\n",
        "plt.title('Most Frequent Used Weapon in Attacks',fontsize=20);"
      ],
      "metadata": {
        "id": "W2tYUlETBbJP"
      },
      "execution_count": null,
      "outputs": []
    },
    {
      "cell_type": "markdown",
      "source": [
        "**Total Casualties due to Terrorist Attack between 1970 to 2017**"
      ],
      "metadata": {
        "id": "Gl0OhD-iBxm9"
      }
    },
    {
      "cell_type": "code",
      "source": [
        "casualty = gd.loc[:,'Casualty'].sum()\n",
        "print(\"Total Number of Casualties due to Terrorist Attacks from 1970 to 2017 across the World :\\n\",casualty)"
      ],
      "metadata": {
        "id": "Y8t6UTYnCAMP"
      },
      "execution_count": null,
      "outputs": []
    },
    {
      "cell_type": "markdown",
      "source": [
        "**Total Killed due to Terrorist Attack between 1970 to 2017**"
      ],
      "metadata": {
        "id": "gbjrZSvOgNbV"
      }
    },
    {
      "cell_type": "code",
      "source": [
        "killed = gd.loc[:,'Killed'].sum()\n",
        "print(\"Total Number of people Killed due to Terrorist Attacks from 1970 to 2017 across the World :\\n\",killed)"
      ],
      "metadata": {
        "id": "tWtDXynkgUTs"
      },
      "execution_count": null,
      "outputs": []
    },
    {
      "cell_type": "markdown",
      "source": [
        "**Wounded due to Terrorist Attack between 1970 to 2017**"
      ],
      "metadata": {
        "id": "2thRaMtTggg9"
      }
    },
    {
      "cell_type": "code",
      "source": [
        "wounded = gd.loc[:,'Wound'].sum()\n",
        "print(\"Total Number of people Wounded due to Terrorist Attacks from 1970 to 2017 across the World :\\n\",wounded)"
      ],
      "metadata": {
        "id": "1K3dEWYdgmfQ"
      },
      "execution_count": null,
      "outputs": []
    },
    {
      "cell_type": "markdown",
      "source": [
        "## **5. Solution to Business Objective**"
      ],
      "metadata": {
        "id": "JcMwzZxoAimU"
      }
    },
    {
      "cell_type": "markdown",
      "source": [
        "#### What do you suggest the client to achieve Business Objective ? \n",
        "Explain Briefly."
      ],
      "metadata": {
        "id": "8G2x9gOozGDZ"
      }
    },
    {
      "cell_type": "markdown",
      "source": [
        "I would suggest the following Steps:\n",
        "\n",
        "1. Collect and organize data on global terrorism attacks, including information on the location, date, perpetrator, and number of casualties.\n",
        "\n",
        "2. Clean and preprocess the data to ensure it is in a format that can be easily analyzed.\n",
        "\n",
        "3. Use descriptive statistics and data visualization techniques to gain insights into the patterns and trends in the data.\n",
        "\n",
        "4. Use inferential statistics and machine learning models to identify key factors that contribute to the likelihood of a terrorist attack and to predict future attacks.\n",
        "\n",
        "5. Communicate the findings and recommendations to the client in a clear and actionable manner, highlighting any areas of concern and suggesting potential countermeasures.\n",
        "\n",
        "6. Continuously monitoring the trends and update the data over time to improve the insights and predictions.\n",
        "\n"
      ],
      "metadata": {
        "id": "pASKb0qOza21"
      }
    },
    {
      "cell_type": "markdown",
      "source": [
        "# **Conclusion**"
      ],
      "metadata": {
        "id": "gCX9965dhzqZ"
      }
    },
    {
      "cell_type": "markdown",
      "source": [
        "With the data set I found interesting, we have seen a variety of analyses and question-and-answer sessions. I feel like sharing this with you. We simply examine the data set and can only state that we are aware of its contents and the columns that make up each row. Exploratory data analysis is a highly effective method for streamlining our work. We can draw conclusions through calculation and visualisation using python libraries like pandas, numpy, matplotlib, seaborn, and plotly.\n",
        "\n",
        "Based on the above analysis, I found that:\n",
        "\n",
        "1. Taliban is most Notorious group with highest number of terrorist activitiies (7478)\n",
        "2. Iraq country has highest number of attacks (24636)\n",
        "3. Middle and East Africa region has highest number of attacks (50474)\n",
        "4. Explosives are the most weapon used by terrorsits (92426).\n",
        "5. From the analysis we can see that on 2014 the number of terrorist activities were the highest in Iraq Country (16806)\n",
        "6. Private citizens and Property were the main targets in terrorism activity (43510).\n"
      ],
      "metadata": {
        "id": "Fjb1IsQkh3yE"
      }
    },
    {
      "cell_type": "markdown",
      "source": [
        "### ***Hurrah! You have successfully completed your EDA Capstone Project !!!***"
      ],
      "metadata": {
        "id": "gIfDvo9L0UH2"
      }
    }
  ]
}